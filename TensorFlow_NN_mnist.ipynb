{
  "nbformat": 4,
  "nbformat_minor": 0,
  "metadata": {
    "colab": {
      "private_outputs": true,
      "provenance": [],
      "gpuType": "T4",
      "authorship_tag": "ABX9TyPIsmfcegnLrd+ik326MExT",
      "include_colab_link": true
    },
    "kernelspec": {
      "name": "python3",
      "display_name": "Python 3"
    },
    "language_info": {
      "name": "python"
    },
    "accelerator": "GPU"
  },
  "cells": [
    {
      "cell_type": "markdown",
      "metadata": {
        "id": "view-in-github",
        "colab_type": "text"
      },
      "source": [
        "<a href=\"https://colab.research.google.com/github/abduljabbar2017/project-Tensorflow/blob/main/TensorFlow_NN_mnist.ipynb\" target=\"_parent\"><img src=\"https://colab.research.google.com/assets/colab-badge.svg\" alt=\"Open In Colab\"/></a>"
      ]
    },
    {
      "cell_type": "markdown",
      "source": [
        "## **Classifying Images of handwritten digits**\n",
        "\n",
        "This guide trains a neural network model to classify images of handwritten digits.\n",
        "\n",
        "This guide uses tf.keras, a high-level API to build and train models in TensorFlow."
      ],
      "metadata": {
        "id": "v8BQ_RjSNfOu"
      }
    },
    {
      "cell_type": "code",
      "execution_count": null,
      "metadata": {
        "id": "kALcqywNUp1m"
      },
      "outputs": [],
      "source": [
        "#Set up GPU for training\n",
        "import torch\n",
        "\n",
        "if torch.cuda.is_available():\n",
        "    device = torch.device(\"cuda\")\n",
        "    print(f'There are {torch.cuda.device_count()} GPU(s) available.')\n",
        "    print('Device name:', torch.cuda.get_device_name(0))\n",
        "\n",
        "else:\n",
        "    print('No GPU available, using the CPU instead.')\n",
        "    device = torch.device(\"cpu\")"
      ]
    },
    {
      "cell_type": "code",
      "source": [
        "!nvidia-smi"
      ],
      "metadata": {
        "id": "taQn3zdJVB-e"
      },
      "execution_count": null,
      "outputs": []
    },
    {
      "cell_type": "code",
      "source": [
        "# TensorFlow and tf.keras\n",
        "import tensorflow as tf\n",
        "from tensorflow import keras"
      ],
      "metadata": {
        "id": "QR50uEAsWmH1"
      },
      "execution_count": null,
      "outputs": []
    },
    {
      "cell_type": "code",
      "source": [
        "# Helper libraries\n",
        "import os\n",
        "import numpy as np\n",
        "import matplotlib.pyplot as plt"
      ],
      "metadata": {
        "id": "qpWvxHW1Woyt"
      },
      "execution_count": null,
      "outputs": []
    },
    {
      "cell_type": "markdown",
      "source": [
        "# **Import the Fashion MNIST dataset**\n",
        "\n",
        "This is a dataset of 60,000 28x28 grayscale images of the 10 digits, along with a test set of 10,000 images."
      ],
      "metadata": {
        "id": "vHrfUhaWOBZc"
      }
    },
    {
      "cell_type": "code",
      "source": [
        "mnist=keras.datasets.mnist"
      ],
      "metadata": {
        "id": "Jw6BmYZhVo9u"
      },
      "execution_count": null,
      "outputs": []
    },
    {
      "cell_type": "code",
      "source": [
        "(x_train,y_train),(x_test,y_test)=mnist.load_data()"
      ],
      "metadata": {
        "id": "pmWMiR4SVwYF"
      },
      "execution_count": null,
      "outputs": []
    },
    {
      "cell_type": "code",
      "source": [
        "#Likewise, there are 60,000 labels in the training set:\n",
        "# And the test set contains 10,000 images labels:\n",
        "print(\"Number of training examples: {}\".format(len(x_train)))\n",
        "print(\"Number of test examples:     {}\".format(len(x_test)))"
      ],
      "metadata": {
        "id": "Xs77HkqGW9p-"
      },
      "execution_count": null,
      "outputs": []
    },
    {
      "cell_type": "code",
      "source": [
        "print(x_train.shape)\n",
        "print(x_test.shape)"
      ],
      "metadata": {
        "id": "6fylsKYWZljr"
      },
      "execution_count": null,
      "outputs": []
    },
    {
      "cell_type": "markdown",
      "source": [
        "**Plotting the MNIST dataset using matplotlib**"
      ],
      "metadata": {
        "id": "OrPRa4XXPE08"
      }
    },
    {
      "cell_type": "code",
      "source": [
        "from matplotlib import pyplot\n",
        "for i in range(9):\n",
        "    pyplot.subplot(330 + 1 + i)\n",
        "    pyplot.imshow(x_train[i], cmap=pyplot.get_cmap('gray'))\n",
        "pyplot.show()"
      ],
      "metadata": {
        "id": "_CDUvloAPWgW"
      },
      "execution_count": null,
      "outputs": []
    },
    {
      "cell_type": "code",
      "source": [
        "x_train[1]"
      ],
      "metadata": {
        "id": "BzSpBc8FbLuq"
      },
      "execution_count": null,
      "outputs": []
    },
    {
      "cell_type": "markdown",
      "source": [
        "## Preprocess the data\n",
        "The data must be preprocessed before training the network. If you inspect the first image in the training set, you will see that the pixel values fall in the range of 0 to 255.\n",
        "\n",
        "Scale these values to a range of 0 to 1 before feeding them to the neural network model. To do so, divide the values by 255. It's important that the training set and the testing set be preprocessed in the same way:"
      ],
      "metadata": {
        "id": "Zs6lJjYlX-w2"
      }
    },
    {
      "cell_type": "code",
      "source": [
        "# convert from integers to floats\n",
        "train_norm = x_train.astype('float32')\n",
        "test_norm = x_test.astype('float32')\n",
        "# normalize to range 0-1\n",
        "train_norm = train_norm / 255.0\n",
        "test_norm = test_norm / 255.0"
      ],
      "metadata": {
        "id": "5I2RD4riXL22"
      },
      "execution_count": null,
      "outputs": []
    },
    {
      "cell_type": "code",
      "source": [
        "test_norm[1]"
      ],
      "metadata": {
        "id": "Mxmvkc5rba35"
      },
      "execution_count": null,
      "outputs": []
    },
    {
      "cell_type": "markdown",
      "source": [
        "# **Build the model**\n",
        "Building the neural network requires configuring the layers of the model, then compiling the model.\n",
        "## Setup the layers\n",
        "The basic building block of a neural network is the layer. A layer extracts a representation from the data fed into it. Hopefully, a series of connected layers results in a representation that is meaningful for the problem at hand.\n",
        "\n",
        "Much of deep learning consists of chaining together simple layers. Most layers, like tf.keras.layers.Dense, have internal parameters which are adjusted (\"learned\") during training."
      ],
      "metadata": {
        "id": "6TmRdJszY5qN"
      }
    },
    {
      "cell_type": "code",
      "source": [
        "model=keras.Sequential()\n",
        "model.add(keras.layers.Flatten(input_shape=(28,28,1)))\n",
        "model.add(keras.layers.Dense(128,activation='relu'))\n",
        "model.add(keras.layers.Dense(10,activation='softmax'))\n",
        "model.summary()"
      ],
      "metadata": {
        "id": "phdY9rF-b2_t"
      },
      "execution_count": null,
      "outputs": []
    },
    {
      "cell_type": "markdown",
      "source": [
        "### Compile the model\n",
        "\n",
        "Before the model is ready for training, it needs a few more settings. These are added during the model's *compile* step:\n",
        "\n",
        "\n",
        "* *Loss function* — An algorithm for measuring how far the model's outputs are from the desired output. The goal of training is this measures loss.\n",
        "* *Optimizer* —An algorithm for adjusting the inner parameters of the model in order to minimize loss.\n",
        "* *Metrics* —Used to monitor the training and testing steps. The following example uses *accuracy*, the fraction of the images that are correctly classified."
      ],
      "metadata": {
        "id": "lE2jhAk3dU5v"
      }
    },
    {
      "cell_type": "code",
      "source": [
        "loss=keras.losses.SparseCategoricalCrossentropy()\n",
        "optim=keras.optimizers.Adam(learning_rate=0.001)\n",
        "metrics=['acc']"
      ],
      "metadata": {
        "id": "bbNxaD1rdWRW"
      },
      "execution_count": null,
      "outputs": []
    },
    {
      "cell_type": "code",
      "source": [
        "model.compile(loss=loss,optimizer=optim,metrics=metrics)"
      ],
      "metadata": {
        "id": "4CtsW0x8foPK"
      },
      "execution_count": null,
      "outputs": []
    },
    {
      "cell_type": "code",
      "source": [
        "batch_size=64\n",
        "epochs = 5"
      ],
      "metadata": {
        "id": "FXhIUYyNgD4L"
      },
      "execution_count": null,
      "outputs": []
    },
    {
      "cell_type": "code",
      "source": [
        "model.fit(train_norm,y_train,batch_size=batch_size,epochs=epochs,shuffle=True,verbose=2)# verbose = 0 mean no output, 1 mean progress bar and 2 mean logging"
      ],
      "metadata": {
        "id": "cOWkg-nVgM3s"
      },
      "execution_count": null,
      "outputs": []
    },
    {
      "cell_type": "markdown",
      "source": [
        "## Evaluate accuracy\n",
        "Next, compare how the model performs on the test dataset. Use all examples we have in the test dataset to assess accuracy."
      ],
      "metadata": {
        "id": "4j_L9GWxQam-"
      }
    },
    {
      "cell_type": "code",
      "source": [
        "test_loss, test_accuracy = model.evaluate(test_norm,y_test,batch_size=batch_size,verbose=2)\n",
        "print('Accuracy on test dataset:', test_accuracy)"
      ],
      "metadata": {
        "id": "_ZmYI2DGQfEV"
      },
      "execution_count": null,
      "outputs": []
    },
    {
      "cell_type": "code",
      "source": [
        "model.save('digit_model.h5')"
      ],
      "metadata": {
        "id": "qK4SrT7RWBas"
      },
      "execution_count": null,
      "outputs": []
    },
    {
      "cell_type": "markdown",
      "source": [
        "## Make predictions and explore\n",
        "\n",
        "With the model trained, we can use it to make predictions about some images."
      ],
      "metadata": {
        "id": "IYOSBOwPQowq"
      }
    },
    {
      "cell_type": "code",
      "source": [
        "# Select test image (replace 0 with desired index)\n",
        "test_image = x_test[1]\n",
        "\n",
        "# Preprocess the test image (normalize pixel values here)\n",
        "test_image = test_image.astype('float32') / 255.0\n",
        "test_image = np.expand_dims(test_image, axis=0)  # Reshape for prediction\n",
        "\n",
        "# Load the trained model\n",
        "model = tf.keras.models.load_model('digit_model.h5')\n",
        "\n",
        "# Make prediction\n",
        "predictions = model.predict(test_image)\n",
        "\n",
        "# Get the predicted digit class (index of max probability)\n",
        "predicted_class = np.argmax(predictions[0])\n",
        "\n",
        "# Print the prediction result\n",
        "print(\"Predicted digit:\", predicted_class)\n",
        "\n",
        "# Optionally, plot the test image\n",
        "plt.imshow(test_image.reshape(28, 28), cmap='gray')\n",
        "plt.title(\"Predicted Digit: \" + str(predicted_class))\n",
        "plt.show()"
      ],
      "metadata": {
        "id": "VZ25vyHTUFv9"
      },
      "execution_count": null,
      "outputs": []
    }
  ]
}